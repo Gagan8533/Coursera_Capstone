{
 "cells": [
  {
   "cell_type": "markdown",
   "id": "83bcb430-18e5-4707-adcf-aeb10435c30c",
   "metadata": {},
   "source": [
    "### This is Coursera CApstone  Juputer NOtebook"
   ]
  },
  {
   "cell_type": "code",
   "execution_count": 3,
   "id": "d1f926a5-9205-40ee-b2fd-622cafdda263",
   "metadata": {},
   "outputs": [],
   "source": [
    "import pandas as pd\n",
    "import numpy as np"
   ]
  },
  {
   "cell_type": "code",
   "execution_count": null,
   "id": "cbdc82ce-6c68-4460-b8a1-638aee1464c5",
   "metadata": {},
   "outputs": [],
   "source": []
  }
 ],
 "metadata": {
  "kernelspec": {
   "display_name": "Python 3",
   "language": "python",
   "name": "python3"
  },
  "language_info": {
   "codemirror_mode": {
    "name": "ipython",
    "version": 3
   },
   "file_extension": ".py",
   "mimetype": "text/x-python",
   "name": "python",
   "nbconvert_exporter": "python",
   "pygments_lexer": "ipython3",
   "version": "3.7.8"
  }
 },
 "nbformat": 4,
 "nbformat_minor": 5
}
